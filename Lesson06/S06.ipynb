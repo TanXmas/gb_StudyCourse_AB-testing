{
 "cells": [
  {
   "cell_type": "markdown",
   "id": "956c0aa0",
   "metadata": {},
   "source": [
    "# Урок 6. Расчёт длительности А/B теста + продвинутые топики"
   ]
  },
  {
   "cell_type": "code",
   "execution_count": 1,
   "id": "448b0769",
   "metadata": {},
   "outputs": [],
   "source": [
    "from statsmodels.stats.proportion import proportion_effectsize\n",
    "from statsmodels.stats.power import TTestIndPower"
   ]
  },
  {
   "attachments": {},
   "cell_type": "markdown",
   "id": "41287b98",
   "metadata": {},
   "source": [
    "## Задание 1\n",
    "\n",
    "Мы хотим провести АБ-тест баннеров. Нынешняя конверсия в клик на баннер (CTR) равна 1.5%. Мы предполагаем, что с новыми баннерами CTR вырастет до 1.7%. Определите, сколько юзеров нам нужно отправить на каждую версию с уровнем доверия 95%."
   ]
  },
  {
   "cell_type": "code",
   "execution_count": 2,
   "id": "4f749559",
   "metadata": {},
   "outputs": [],
   "source": [
    "p1, p2, gamma = 1.5/100, 1.7/100, 0.95\n",
    "alpha = 1-gamma\n",
    "beta = 0.2"
   ]
  },
  {
   "cell_type": "code",
   "execution_count": 3,
   "id": "54e89aa9",
   "metadata": {},
   "outputs": [
    {
     "data": {
      "text/plain": [
       "61727"
      ]
     },
     "execution_count": 3,
     "metadata": {},
     "output_type": "execute_result"
    }
   ],
   "source": [
    "effect_size = proportion_effectsize(p1, p2)\n",
    "\n",
    "analysis = TTestIndPower()\n",
    "size = analysis.solve_power(effect_size=effect_size, alpha=alpha, power=1-beta, alternative='two-sided')\n",
    "int(size)"
   ]
  },
  {
   "attachments": {},
   "cell_type": "markdown",
   "id": "204f4856",
   "metadata": {},
   "source": [
    "## Задание 2\n",
    "\n",
    "Мы хотим провести АБ-тест формы подтверждения заказа. Нынешняя конверсия в заказ равна 3%. Мы предполагаем, что конверсия вырастет на 0,1%. Определите, сколько юзеров нам нужно отправить на каждую версию с уровнем доверия 99% и уровнем мощности 90%."
   ]
  },
  {
   "cell_type": "code",
   "execution_count": 4,
   "id": "b2b77a85",
   "metadata": {},
   "outputs": [],
   "source": [
    "p1, p2, gamma = 3/100, 3.1/100, 0.99\n",
    "alpha = 1-gamma\n",
    "beta = 0.1"
   ]
  },
  {
   "cell_type": "code",
   "execution_count": 5,
   "id": "ab5b379f",
   "metadata": {},
   "outputs": [
    {
     "data": {
      "text/plain": [
       "879903"
      ]
     },
     "execution_count": 5,
     "metadata": {},
     "output_type": "execute_result"
    }
   ],
   "source": [
    "effect_size = proportion_effectsize(p1, p2)\n",
    "\n",
    "analysis = TTestIndPower()\n",
    "size = analysis.solve_power(effect_size=effect_size, alpha=alpha, power=1-beta, alternative='two-sided')\n",
    "int(size)"
   ]
  },
  {
   "attachments": {},
   "cell_type": "markdown",
   "id": "75efe0ac",
   "metadata": {},
   "source": [
    "## Задание 3\n",
    "\n",
    "Дизайнер предложил добавить рекомендательную систему на этапе формирования корзины. Нынешний средний чек равен 2167 рублей, а стандартная ошибка (SD) равна 69. Мы предполагаем, что в новой версии средний чек вырастет 2180. Определите, сколько юзеров нам нужно отправить на каждую версию с уровнем доверия 95%.\n",
    "\n",
    "https://www.statulator.com/SampleSize/ss2M.html"
   ]
  },
  {
   "attachments": {},
   "cell_type": "markdown",
   "id": "8ff5d3d7",
   "metadata": {},
   "source": [
    "## Задание 4\n",
    "\n",
    "Вы решили сравниваем метрику деньги на юзера в двух группах. Размер выборки - 1000 элементов в каждой группе. \\\n",
    "Для проверки нормальности распределения на выборке в 1000 наблюдений применили, критерий Шапиро-Уилка и получили p-value, равный 0.00002, при alpha = 5%, то какой бы вывод мы могли сделать в данном случае? \\\n",
    "В этом случае какой статистический критерий для проверки первоначальной гипотезы тут лучше всего подойдёт и почему?\n",
    "\n",
    "Т.к. $p-valeu < \\alpha$, то гипотезу $H_0$ о нормальности распределения отклоняем.\n",
    "\n",
    "Количественые данные ->Распределение не нормальное -> 2 независимые выборки = критерий Манна-Уитни."
   ]
  },
  {
   "cell_type": "code",
   "execution_count": null,
   "id": "d2944a8e",
   "metadata": {},
   "outputs": [],
   "source": []
  }
 ],
 "metadata": {
  "kernelspec": {
   "display_name": "Python 3 (ipykernel)",
   "language": "python",
   "name": "python3"
  },
  "language_info": {
   "codemirror_mode": {
    "name": "ipython",
    "version": 3
   },
   "file_extension": ".py",
   "mimetype": "text/x-python",
   "name": "python",
   "nbconvert_exporter": "python",
   "pygments_lexer": "ipython3",
   "version": "3.9.13"
  }
 },
 "nbformat": 4,
 "nbformat_minor": 5
}
