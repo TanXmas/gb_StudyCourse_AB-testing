{
 "cells": [
  {
   "cell_type": "markdown",
   "id": "07d5894a",
   "metadata": {},
   "source": [
    "# Урок 6. Расчёт длительности А/B теста + продвинутые топики"
   ]
  },
  {
   "cell_type": "code",
   "execution_count": 1,
   "id": "c568a543",
   "metadata": {},
   "outputs": [],
   "source": [
    "import numpy as np\n",
    "\n",
    "from scipy import stats\n",
    "from statsmodels.stats.proportion import proportion_effectsize\n",
    "from statsmodels.stats.power import TTestIndPower\n",
    "\n",
    "import warnings\n",
    "warnings.filterwarnings('ignore')"
   ]
  },
  {
   "cell_type": "markdown",
   "id": "0ed59e5a",
   "metadata": {},
   "source": [
    "## Задание 1\n",
    "\n",
    "Продакт на главной mail.ru решил протестировать в рекомендательной ленте контента вместо карточек со статьями видеоплеер с короткими видео. Нынешний таймспент на юзера в день в среднем равен 25 минут, а стандартная ошибка (SD) равна 156. Мы предполагаем, что в новой версии таймспент на юзера в день изменится на 10%. Средний трафик 20000 человек в день. Посчитайте сколько дней необходимо держать эксперимент при $\\alpha = 5\\%$ и $\\beta = 20\\%$."
   ]
  },
  {
   "cell_type": "code",
   "execution_count": 2,
   "id": "9515a23f",
   "metadata": {},
   "outputs": [],
   "source": [
    "t1, sd, t2, n = 25, 156, 25*1.1, 20000\n",
    "alpha = 0.05\n",
    "beta = 0.2"
   ]
  },
  {
   "cell_type": "code",
   "execution_count": null,
   "id": "c59b82dc",
   "metadata": {},
   "outputs": [],
   "source": []
  },
  {
   "cell_type": "code",
   "execution_count": null,
   "id": "34cba5ad",
   "metadata": {},
   "outputs": [],
   "source": []
  },
  {
   "cell_type": "markdown",
   "id": "3fea7a42",
   "metadata": {},
   "source": [
    "## Задание 2\n",
    "Наша продуктовая команда в ecommerce магазине планирует запустить тест, направленный на ускорение загрузки сайта. Одна из основных метрик bounce rate в GA = 40%. Мы предполагаем, что при оптимизации сайта она изменится минимум на 20%. Средний трафик 4000 человек в день. Посчитайте сколько нам нужно дней держать эксперимент при $\\alpha = 5\\%$ и $\\beta = 20\\%$."
   ]
  },
  {
   "cell_type": "code",
   "execution_count": 3,
   "id": "fff569b7",
   "metadata": {},
   "outputs": [],
   "source": [
    "p1, p2 = 0.4, 0.4*(1-0.2)\n",
    "alpha = 0.05\n",
    "beta = 0.2\n",
    "n = 4000"
   ]
  },
  {
   "cell_type": "code",
   "execution_count": 4,
   "id": "43a368f9",
   "metadata": {},
   "outputs": [
    {
     "data": {
      "text/plain": [
       "564"
      ]
     },
     "execution_count": 4,
     "metadata": {},
     "output_type": "execute_result"
    }
   ],
   "source": [
    "effect_size = proportion_effectsize(p1, p2)\n",
    "\n",
    "analysis = TTestIndPower()\n",
    "size = int(analysis.solve_power(effect_size=effect_size, alpha=alpha, power=1-beta, alternative='two-sided'))\n",
    "size"
   ]
  },
  {
   "cell_type": "code",
   "execution_count": 5,
   "id": "11e0566b",
   "metadata": {},
   "outputs": [
    {
     "data": {
      "text/plain": [
       "1"
      ]
     },
     "execution_count": 5,
     "metadata": {},
     "output_type": "execute_result"
    }
   ],
   "source": [
    "# деление с округлением вверх\n",
    "(2 * size - 1) // n + 1"
   ]
  },
  {
   "cell_type": "code",
   "execution_count": null,
   "id": "cbae6511",
   "metadata": {},
   "outputs": [],
   "source": []
  }
 ],
 "metadata": {
  "kernelspec": {
   "display_name": "Python 3 (ipykernel)",
   "language": "python",
   "name": "python3"
  },
  "language_info": {
   "codemirror_mode": {
    "name": "ipython",
    "version": 3
   },
   "file_extension": ".py",
   "mimetype": "text/x-python",
   "name": "python",
   "nbconvert_exporter": "python",
   "pygments_lexer": "ipython3",
   "version": "3.9.13"
  }
 },
 "nbformat": 4,
 "nbformat_minor": 5
}
