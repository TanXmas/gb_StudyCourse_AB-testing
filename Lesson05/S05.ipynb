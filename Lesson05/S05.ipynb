{
 "cells": [
  {
   "cell_type": "markdown",
   "id": "d0e05d4e",
   "metadata": {},
   "source": [
    "# Урок 5. Применение математической статистики для проверки гипотез в реальной жизни для популярных метрик"
   ]
  },
  {
   "cell_type": "code",
   "execution_count": 1,
   "id": "62062152",
   "metadata": {},
   "outputs": [],
   "source": [
    "import numpy as np\n",
    "\n",
    "from scipy import stats\n",
    "\n",
    "import warnings\n",
    "warnings.filterwarnings('ignore')"
   ]
  },
  {
   "cell_type": "markdown",
   "id": "0018b31b",
   "metadata": {},
   "source": [
    "## Задание 1\n",
    "\n",
    "Мы запустили АБ-тест на увеличение среднего дохода за сеанс. По итогам тестирования мы получили следующие данные. Является ли результат статистически значимым с уровнем доверия 95%? Какую версию мы выкатим в продакшн?\n",
    "\n",
    "$H_0: \\bar{X} - \\bar{Y} = 0$ \\\n",
    "$H_1: \\bar{X} - \\bar{Y} < 0$ – левосторонняя критическая область\n",
    "\n",
    "Для проверки нулевой гипотезы используют статистический критерий \\\n",
    "$Z = \\cfrac{\\bar{x}-\\bar{y}}{\\sqrt{\\cfrac{D_x^2}{n}+\\cfrac{D_y^2}{m}}}$, где \\\n",
    "$\\bar{x}$, $\\bar{y}$ - выборочные средние \\\n",
    "$D_x^2$, $D_y^2$ - смещенные выборочные дисперсии (можно использовать и несмещенную)\n",
    "\n",
    "Для левосторонней критической области. Если $z_н > -z_к$, то гипотеза $H_0$ на уровне значимости $\\alpha$ принимается. Если $z_н < -z_к$, то отвергается."
   ]
  },
  {
   "cell_type": "code",
   "execution_count": 2,
   "id": "b089c830",
   "metadata": {},
   "outputs": [],
   "source": [
    "Mx, SDx, Nx = 260, 20, 100 #A\n",
    "My, SDy, Ny = 270, 40, 120 #B\n",
    "alpha = 0.05"
   ]
  },
  {
   "cell_type": "code",
   "execution_count": 3,
   "id": "037f0027",
   "metadata": {},
   "outputs": [
    {
     "name": "stdout",
     "output_type": "stream",
     "text": [
      "Zk = 1.64\n",
      "Zn = -2.40\n",
      "H0: M(X)=M(Y) is False\n"
     ]
    }
   ],
   "source": [
    "Zk = stats.norm.ppf(1-alpha)\n",
    "print(f'Zk = {Zk:.2f}')\n",
    "\n",
    "Zn = (Mx-My)/np.sqrt(SDx**2/Nx + SDy**2/Ny)\n",
    "print(f'Zn = {Zn:.2f}')\n",
    "\n",
    "print(f'H0: M(X)=M(Y) is {Zn>-Zk}')"
   ]
  },
  {
   "cell_type": "markdown",
   "id": "09b5f46a",
   "metadata": {},
   "source": [
    "## Задание 2\n",
    "\n",
    "Мы провели АБ-тест на увеличение ARPU. По итогам тестирования мы получили следующие данные. Является ли результат статистически значимым с уровнем доверия 95%? Какую версию мы выкатим в продакшн?\n",
    "\n",
    "$H_0: \\bar{X} - \\bar{Y} = 0$ \\\n",
    "$H_1: \\bar{X} - \\bar{Y} \\not= 0$ – двусторонняя критическая область\n",
    "\n",
    "Для проверки нулевой гипотезы используют статистический критерий \\\n",
    "$Z = \\cfrac{\\bar{x}-\\bar{y}}{\\sqrt{\\cfrac{D_x^2}{n}+\\cfrac{D_y^2}{m}}}$, где \\\n",
    "$\\bar{x}$, $\\bar{y}$ - выборочные средние \\\n",
    "$D_x^2$, $D_y^2$ - смещенные выборочные дисперсии (можно использовать и несмещенную)\n",
    "\n",
    "Двусторонняя критическая область. Если $|z_н| < z_к$, то гипотеза $H_0$ принимается, в противном случае – отвергается."
   ]
  },
  {
   "cell_type": "code",
   "execution_count": 4,
   "id": "adf7f089",
   "metadata": {},
   "outputs": [],
   "source": [
    "Mx, SDx, Nx = 300, 20, 600 #A\n",
    "My, SDy, Ny = 301, 5, 620 #B\n",
    "alpha = 0.05"
   ]
  },
  {
   "cell_type": "code",
   "execution_count": 5,
   "id": "49bd7ebc",
   "metadata": {},
   "outputs": [
    {
     "name": "stdout",
     "output_type": "stream",
     "text": [
      "Zk = 1.96\n",
      "Zn = -1.19\n",
      "H0: M(X)=M(Y) is True\n"
     ]
    }
   ],
   "source": [
    "Zk = stats.norm.ppf(1-alpha/2)\n",
    "print(f'Zk = {Zk:.2f}')\n",
    "\n",
    "Zn = (Mx-My)/np.sqrt(SDx**2/Nx + SDy**2/Ny)\n",
    "print(f'Zn = {Zn:.2f}')\n",
    "\n",
    "print(f'H0: M(X)=M(Y) is {abs(Zn)<Zk}')"
   ]
  },
  {
   "cell_type": "markdown",
   "id": "4cd37330",
   "metadata": {},
   "source": [
    "## Задание 3\n",
    "\n",
    "Мы провели АБ-тест на увеличение average timespent per user. По итогам тестирования мы получили следующие данные. Является ли результат статистически значимым с уровнем доверия 95%? Какую версию мы выкатим на продакшн?\n",
    "\n",
    "$H_0: \\bar{X} - \\bar{Y} = 0$ \\\n",
    "$H_1: \\bar{X} - \\bar{Y} > 0$ – правосторонняя критическая область\n",
    "\n",
    "Для проверки нулевой гипотезы используют статистический критерий \\\n",
    "$Z = \\cfrac{\\bar{x}-\\bar{y}}{\\sqrt{\\cfrac{D_x^2}{n}+\\cfrac{D_y^2}{m}}}$, где \\\n",
    "$\\bar{x}$, $\\bar{y}$ - выборочные средние \\\n",
    "$D_x^2$, $D_y^2$ - смещенные выборочные дисперсии (можно использовать и несмещенную)\n",
    "\n",
    "Правосторонняя критическая область. Если $z_н < z_к$, то гипотеза $H_0$ принимается, в случае $z_н > z_к$ – отвергается."
   ]
  },
  {
   "cell_type": "code",
   "execution_count": 6,
   "id": "c6a5fdb4",
   "metadata": {},
   "outputs": [],
   "source": [
    "Mx, SDx, Nx = 478, 20, 92 #A\n",
    "My, SDy, Ny = 470, 30, 93 #B\n",
    "alpha = 0.05"
   ]
  },
  {
   "cell_type": "code",
   "execution_count": 7,
   "id": "0b9c5eab",
   "metadata": {},
   "outputs": [
    {
     "name": "stdout",
     "output_type": "stream",
     "text": [
      "Zk = 1.64\n",
      "Zn = 2.14\n",
      "H0: M(X)=M(Y) is False\n"
     ]
    }
   ],
   "source": [
    "Zk = stats.norm.ppf(1-alpha)\n",
    "print(f'Zk = {Zk:.2f}')\n",
    "\n",
    "Zn = (Mx-My)/np.sqrt(SDx**2/Nx + SDy**2/Ny)\n",
    "print(f'Zn = {Zn:.2f}')\n",
    "\n",
    "print(f'H0: M(X)=M(Y) is {Zn<Zk}')"
   ]
  },
  {
   "attachments": {},
   "cell_type": "markdown",
   "id": "6041b519",
   "metadata": {},
   "source": [
    "## Задание 5\n",
    "\n",
    "Вычислите  выборочную дисперсию, выборочное  среднее, стандартное отклонение , моду и медиану для следующего множества значений: [5, 5, 5, 18, 10, 8, 9, 10, 19, 21 ]"
   ]
  },
  {
   "cell_type": "code",
   "execution_count": 8,
   "id": "e9c21055",
   "metadata": {},
   "outputs": [],
   "source": [
    "X = np.array([5, 5, 5, 18, 10, 8, 9, 10, 19, 21])"
   ]
  },
  {
   "cell_type": "code",
   "execution_count": 9,
   "id": "e51cd858",
   "metadata": {},
   "outputs": [
    {
     "data": {
      "text/plain": [
       "37.333333333333336"
      ]
     },
     "execution_count": 9,
     "metadata": {},
     "output_type": "execute_result"
    }
   ],
   "source": [
    "# несмещенная дисперсия\n",
    "np.var(X, ddof=1)"
   ]
  },
  {
   "cell_type": "code",
   "execution_count": 10,
   "id": "15297e86",
   "metadata": {},
   "outputs": [
    {
     "data": {
      "text/plain": [
       "11.0"
      ]
     },
     "execution_count": 10,
     "metadata": {},
     "output_type": "execute_result"
    }
   ],
   "source": [
    "np.mean(X)"
   ]
  },
  {
   "cell_type": "code",
   "execution_count": 11,
   "id": "4157d753",
   "metadata": {},
   "outputs": [
    {
     "data": {
      "text/plain": [
       "6.110100926607787"
      ]
     },
     "execution_count": 11,
     "metadata": {},
     "output_type": "execute_result"
    }
   ],
   "source": [
    "# несмещенное стандартное отклонение\n",
    "np.std(X, ddof=1)"
   ]
  },
  {
   "cell_type": "code",
   "execution_count": 12,
   "id": "6db4bbc2",
   "metadata": {},
   "outputs": [
    {
     "data": {
      "text/plain": [
       "array([5])"
      ]
     },
     "execution_count": 12,
     "metadata": {},
     "output_type": "execute_result"
    }
   ],
   "source": [
    "stats.mode(X)[0]"
   ]
  },
  {
   "cell_type": "code",
   "execution_count": 13,
   "id": "4b1771d7",
   "metadata": {},
   "outputs": [
    {
     "data": {
      "text/plain": [
       "9.5"
      ]
     },
     "execution_count": 13,
     "metadata": {},
     "output_type": "execute_result"
    }
   ],
   "source": [
    "np.median(X)"
   ]
  },
  {
   "attachments": {},
   "cell_type": "markdown",
   "id": "e3b3bbef",
   "metadata": {},
   "source": [
    "## Задание 6\n",
    "\n",
    "Постройте 95% доверительный интервал для  конверсии = 11% с выборкой 1500 человек -  напишите кратко как вы будете интерпретировать результат."
   ]
  },
  {
   "cell_type": "code",
   "execution_count": 19,
   "id": "00ba8c07",
   "metadata": {},
   "outputs": [
    {
     "name": "stdout",
     "output_type": "stream",
     "text": [
      "0.094 < p < 0.126\n"
     ]
    }
   ],
   "source": [
    "w, n = 0.11, 1500\n",
    "gamma = 0.95\n",
    "alpha = 1 - gamma\n",
    "\n",
    "t = round(stats.t.ppf(1-alpha/2,n-1),2)\n",
    "\n",
    "print(f'{w - t * np.sqrt(w*(1-w)/n):.3f} < p < {w + t * np.sqrt(w*(1-w)/n):.3f}')"
   ]
  },
  {
   "cell_type": "markdown",
   "id": "ebee911f",
   "metadata": {},
   "source": [
    "С верояностью 0.95 можно утверждать, что доверительный интервал (0.094;0.126) накроет истинное значение конверсии."
   ]
  },
  {
   "cell_type": "code",
   "execution_count": null,
   "id": "bc8fe7f2",
   "metadata": {},
   "outputs": [],
   "source": []
  }
 ],
 "metadata": {
  "kernelspec": {
   "display_name": "Python 3 (ipykernel)",
   "language": "python",
   "name": "python3"
  },
  "language_info": {
   "codemirror_mode": {
    "name": "ipython",
    "version": 3
   },
   "file_extension": ".py",
   "mimetype": "text/x-python",
   "name": "python",
   "nbconvert_exporter": "python",
   "pygments_lexer": "ipython3",
   "version": "3.9.13"
  }
 },
 "nbformat": 4,
 "nbformat_minor": 5
}
