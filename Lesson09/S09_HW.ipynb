{
 "cells": [
  {
   "cell_type": "markdown",
   "id": "fa987926",
   "metadata": {},
   "source": [
    "# Урок 9. Python применение продвинутых методов"
   ]
  },
  {
   "cell_type": "code",
   "execution_count": 1,
   "id": "d7eb1126",
   "metadata": {},
   "outputs": [],
   "source": [
    "import numpy as np\n",
    "import pandas as pd\n",
    "\n",
    "import scipy.stats as stats\n",
    "from statsmodels.stats import proportion\n",
    "#from statsmodels.stats.power import TTestIndPower\n",
    "import statsmodels.stats.power as smp\n",
    "\n",
    "import matplotlib.pyplot as plt\n",
    "import seaborn as sns\n",
    "\n",
    "import warnings\n",
    "warnings.filterwarnings('ignore')"
   ]
  },
  {
   "cell_type": "markdown",
   "id": "3edc7497",
   "metadata": {},
   "source": [
    "## Задание 1\n",
    "Проанализируйте результаты эксперимента и напишите свои рекомендации менеджеру.\\\n",
    "Mobile Games AB Testing with Cookie Cats"
   ]
  },
  {
   "cell_type": "code",
   "execution_count": 2,
   "id": "965f5748",
   "metadata": {},
   "outputs": [
    {
     "data": {
      "text/html": [
       "<div>\n",
       "<style scoped>\n",
       "    .dataframe tbody tr th:only-of-type {\n",
       "        vertical-align: middle;\n",
       "    }\n",
       "\n",
       "    .dataframe tbody tr th {\n",
       "        vertical-align: top;\n",
       "    }\n",
       "\n",
       "    .dataframe thead th {\n",
       "        text-align: right;\n",
       "    }\n",
       "</style>\n",
       "<table border=\"1\" class=\"dataframe\">\n",
       "  <thead>\n",
       "    <tr style=\"text-align: right;\">\n",
       "      <th></th>\n",
       "      <th>userid</th>\n",
       "      <th>version</th>\n",
       "      <th>sum_gamerounds</th>\n",
       "      <th>retention_1</th>\n",
       "      <th>retention_7</th>\n",
       "    </tr>\n",
       "  </thead>\n",
       "  <tbody>\n",
       "    <tr>\n",
       "      <th>0</th>\n",
       "      <td>116</td>\n",
       "      <td>gate_30</td>\n",
       "      <td>3</td>\n",
       "      <td>0</td>\n",
       "      <td>0</td>\n",
       "    </tr>\n",
       "    <tr>\n",
       "      <th>1</th>\n",
       "      <td>337</td>\n",
       "      <td>gate_30</td>\n",
       "      <td>38</td>\n",
       "      <td>1</td>\n",
       "      <td>0</td>\n",
       "    </tr>\n",
       "    <tr>\n",
       "      <th>2</th>\n",
       "      <td>377</td>\n",
       "      <td>gate_40</td>\n",
       "      <td>165</td>\n",
       "      <td>1</td>\n",
       "      <td>0</td>\n",
       "    </tr>\n",
       "    <tr>\n",
       "      <th>3</th>\n",
       "      <td>483</td>\n",
       "      <td>gate_40</td>\n",
       "      <td>1</td>\n",
       "      <td>0</td>\n",
       "      <td>0</td>\n",
       "    </tr>\n",
       "    <tr>\n",
       "      <th>4</th>\n",
       "      <td>488</td>\n",
       "      <td>gate_40</td>\n",
       "      <td>179</td>\n",
       "      <td>1</td>\n",
       "      <td>1</td>\n",
       "    </tr>\n",
       "    <tr>\n",
       "      <th>...</th>\n",
       "      <td>...</td>\n",
       "      <td>...</td>\n",
       "      <td>...</td>\n",
       "      <td>...</td>\n",
       "      <td>...</td>\n",
       "    </tr>\n",
       "    <tr>\n",
       "      <th>90184</th>\n",
       "      <td>9999441</td>\n",
       "      <td>gate_40</td>\n",
       "      <td>97</td>\n",
       "      <td>1</td>\n",
       "      <td>0</td>\n",
       "    </tr>\n",
       "    <tr>\n",
       "      <th>90185</th>\n",
       "      <td>9999479</td>\n",
       "      <td>gate_40</td>\n",
       "      <td>30</td>\n",
       "      <td>0</td>\n",
       "      <td>0</td>\n",
       "    </tr>\n",
       "    <tr>\n",
       "      <th>90186</th>\n",
       "      <td>9999710</td>\n",
       "      <td>gate_30</td>\n",
       "      <td>28</td>\n",
       "      <td>1</td>\n",
       "      <td>0</td>\n",
       "    </tr>\n",
       "    <tr>\n",
       "      <th>90187</th>\n",
       "      <td>9999768</td>\n",
       "      <td>gate_40</td>\n",
       "      <td>51</td>\n",
       "      <td>1</td>\n",
       "      <td>0</td>\n",
       "    </tr>\n",
       "    <tr>\n",
       "      <th>90188</th>\n",
       "      <td>9999861</td>\n",
       "      <td>gate_40</td>\n",
       "      <td>16</td>\n",
       "      <td>0</td>\n",
       "      <td>0</td>\n",
       "    </tr>\n",
       "  </tbody>\n",
       "</table>\n",
       "<p>90189 rows × 5 columns</p>\n",
       "</div>"
      ],
      "text/plain": [
       "        userid  version  sum_gamerounds  retention_1  retention_7\n",
       "0          116  gate_30               3            0            0\n",
       "1          337  gate_30              38            1            0\n",
       "2          377  gate_40             165            1            0\n",
       "3          483  gate_40               1            0            0\n",
       "4          488  gate_40             179            1            1\n",
       "...        ...      ...             ...          ...          ...\n",
       "90184  9999441  gate_40              97            1            0\n",
       "90185  9999479  gate_40              30            0            0\n",
       "90186  9999710  gate_30              28            1            0\n",
       "90187  9999768  gate_40              51            1            0\n",
       "90188  9999861  gate_40              16            0            0\n",
       "\n",
       "[90189 rows x 5 columns]"
      ]
     },
     "execution_count": 2,
     "metadata": {},
     "output_type": "execute_result"
    }
   ],
   "source": [
    "df = pd.read_excel('cookie_cats.xlsx')\n",
    "df"
   ]
  },
  {
   "cell_type": "markdown",
   "id": "c610ac84",
   "metadata": {},
   "source": [
    "**userid** - уникальный номер, который идентифицирует каждого игрока.\n",
    "\n",
    "**version** - Был ли игрок поставлен в контрольную группу (gate_30 - ворота 30 уровня) или в группу с перемещенными воротами (gate_40 - ворота 40 уровня).\n",
    "\n",
    "**sumgamerounds** - количество раундов, сыгранных каждым игроком в течение первых 14 дней после установки.\n",
    "\n",
    "**retention_1** - Вернулся ли игрок в игру через 1 день после установки.\n",
    "\n",
    "**retention_7** - Вернулся ли игрок в игру через 7 дней после установки."
   ]
  },
  {
   "cell_type": "code",
   "execution_count": 3,
   "id": "b5847001",
   "metadata": {},
   "outputs": [
    {
     "name": "stdout",
     "output_type": "stream",
     "text": [
      "<class 'pandas.core.frame.DataFrame'>\n",
      "RangeIndex: 90189 entries, 0 to 90188\n",
      "Data columns (total 5 columns):\n",
      " #   Column          Non-Null Count  Dtype \n",
      "---  ------          --------------  ----- \n",
      " 0   userid          90189 non-null  int64 \n",
      " 1   version         90189 non-null  object\n",
      " 2   sum_gamerounds  90189 non-null  int64 \n",
      " 3   retention_1     90189 non-null  int64 \n",
      " 4   retention_7     90189 non-null  int64 \n",
      "dtypes: int64(4), object(1)\n",
      "memory usage: 3.4+ MB\n"
     ]
    }
   ],
   "source": [
    "df.info()"
   ]
  },
  {
   "cell_type": "code",
   "execution_count": 4,
   "id": "b65cacc0",
   "metadata": {},
   "outputs": [
    {
     "data": {
      "text/plain": [
       "userid            0\n",
       "version           0\n",
       "sum_gamerounds    0\n",
       "retention_1       0\n",
       "retention_7       0\n",
       "dtype: int64"
      ]
     },
     "execution_count": 4,
     "metadata": {},
     "output_type": "execute_result"
    }
   ],
   "source": [
    "df.isna().sum()"
   ]
  },
  {
   "cell_type": "code",
   "execution_count": 5,
   "id": "9b97e9fa",
   "metadata": {},
   "outputs": [
    {
     "data": {
      "text/html": [
       "<div>\n",
       "<style scoped>\n",
       "    .dataframe tbody tr th:only-of-type {\n",
       "        vertical-align: middle;\n",
       "    }\n",
       "\n",
       "    .dataframe tbody tr th {\n",
       "        vertical-align: top;\n",
       "    }\n",
       "\n",
       "    .dataframe thead th {\n",
       "        text-align: right;\n",
       "    }\n",
       "</style>\n",
       "<table border=\"1\" class=\"dataframe\">\n",
       "  <thead>\n",
       "    <tr style=\"text-align: right;\">\n",
       "      <th></th>\n",
       "      <th>userid</th>\n",
       "      <th>version</th>\n",
       "    </tr>\n",
       "  </thead>\n",
       "  <tbody>\n",
       "  </tbody>\n",
       "</table>\n",
       "</div>"
      ],
      "text/plain": [
       "Empty DataFrame\n",
       "Columns: [userid, version]\n",
       "Index: []"
      ]
     },
     "execution_count": 5,
     "metadata": {},
     "output_type": "execute_result"
    }
   ],
   "source": [
    "df.groupby('userid', as_index=False).agg({'version': pd.Series.nunique}).query('version > 1')"
   ]
  },
  {
   "cell_type": "code",
   "execution_count": 6,
   "id": "5a1622c4",
   "metadata": {},
   "outputs": [
    {
     "data": {
      "text/plain": [
       "0"
      ]
     },
     "execution_count": 6,
     "metadata": {},
     "output_type": "execute_result"
    }
   ],
   "source": [
    "df.duplicated().sum()"
   ]
  },
  {
   "cell_type": "code",
   "execution_count": 7,
   "id": "19e26700",
   "metadata": {},
   "outputs": [
    {
     "data": {
      "text/plain": [
       "0"
      ]
     },
     "execution_count": 7,
     "metadata": {},
     "output_type": "execute_result"
    }
   ],
   "source": [
    "df['userid'].duplicated().sum()"
   ]
  },
  {
   "cell_type": "code",
   "execution_count": 8,
   "id": "b01b1793",
   "metadata": {},
   "outputs": [
    {
     "data": {
      "text/html": [
       "<div>\n",
       "<style scoped>\n",
       "    .dataframe tbody tr th:only-of-type {\n",
       "        vertical-align: middle;\n",
       "    }\n",
       "\n",
       "    .dataframe tbody tr th {\n",
       "        vertical-align: top;\n",
       "    }\n",
       "\n",
       "    .dataframe thead th {\n",
       "        text-align: right;\n",
       "    }\n",
       "</style>\n",
       "<table border=\"1\" class=\"dataframe\">\n",
       "  <thead>\n",
       "    <tr style=\"text-align: right;\">\n",
       "      <th></th>\n",
       "      <th>sum_gamerounds</th>\n",
       "      <th>retention_1</th>\n",
       "      <th>retention_7</th>\n",
       "    </tr>\n",
       "  </thead>\n",
       "  <tbody>\n",
       "    <tr>\n",
       "      <th>count</th>\n",
       "      <td>90189.000000</td>\n",
       "      <td>90189.000000</td>\n",
       "      <td>90189.000000</td>\n",
       "    </tr>\n",
       "    <tr>\n",
       "      <th>mean</th>\n",
       "      <td>51.872457</td>\n",
       "      <td>0.445210</td>\n",
       "      <td>0.186065</td>\n",
       "    </tr>\n",
       "    <tr>\n",
       "      <th>std</th>\n",
       "      <td>195.050858</td>\n",
       "      <td>0.496992</td>\n",
       "      <td>0.389161</td>\n",
       "    </tr>\n",
       "    <tr>\n",
       "      <th>min</th>\n",
       "      <td>0.000000</td>\n",
       "      <td>0.000000</td>\n",
       "      <td>0.000000</td>\n",
       "    </tr>\n",
       "    <tr>\n",
       "      <th>25%</th>\n",
       "      <td>5.000000</td>\n",
       "      <td>0.000000</td>\n",
       "      <td>0.000000</td>\n",
       "    </tr>\n",
       "    <tr>\n",
       "      <th>50%</th>\n",
       "      <td>16.000000</td>\n",
       "      <td>0.000000</td>\n",
       "      <td>0.000000</td>\n",
       "    </tr>\n",
       "    <tr>\n",
       "      <th>75%</th>\n",
       "      <td>51.000000</td>\n",
       "      <td>1.000000</td>\n",
       "      <td>0.000000</td>\n",
       "    </tr>\n",
       "    <tr>\n",
       "      <th>max</th>\n",
       "      <td>49854.000000</td>\n",
       "      <td>1.000000</td>\n",
       "      <td>1.000000</td>\n",
       "    </tr>\n",
       "  </tbody>\n",
       "</table>\n",
       "</div>"
      ],
      "text/plain": [
       "       sum_gamerounds   retention_1   retention_7\n",
       "count    90189.000000  90189.000000  90189.000000\n",
       "mean        51.872457      0.445210      0.186065\n",
       "std        195.050858      0.496992      0.389161\n",
       "min          0.000000      0.000000      0.000000\n",
       "25%          5.000000      0.000000      0.000000\n",
       "50%         16.000000      0.000000      0.000000\n",
       "75%         51.000000      1.000000      0.000000\n",
       "max      49854.000000      1.000000      1.000000"
      ]
     },
     "execution_count": 8,
     "metadata": {},
     "output_type": "execute_result"
    }
   ],
   "source": [
    "df[['sum_gamerounds', 'retention_1', 'retention_7']].describe()"
   ]
  },
  {
   "cell_type": "markdown",
   "id": "a578933c",
   "metadata": {},
   "source": [
    "Уберем аномальный выброс в поле sum_gamerounds."
   ]
  },
  {
   "cell_type": "code",
   "execution_count": 9,
   "id": "0cdda985",
   "metadata": {},
   "outputs": [],
   "source": [
    "df = df[df['sum_gamerounds'] < 49000]"
   ]
  },
  {
   "cell_type": "code",
   "execution_count": 10,
   "id": "872f067d",
   "metadata": {},
   "outputs": [
    {
     "data": {
      "text/plain": [
       "gate_40    45489\n",
       "gate_30    44699\n",
       "Name: version, dtype: int64"
      ]
     },
     "execution_count": 10,
     "metadata": {},
     "output_type": "execute_result"
    }
   ],
   "source": [
    "df['version'].value_counts()"
   ]
  },
  {
   "cell_type": "code",
   "execution_count": 11,
   "id": "309585be",
   "metadata": {},
   "outputs": [
    {
     "data": {
      "text/plain": [
       "0    50035\n",
       "1    40153\n",
       "Name: retention_1, dtype: int64"
      ]
     },
     "execution_count": 11,
     "metadata": {},
     "output_type": "execute_result"
    }
   ],
   "source": [
    "df['retention_1'].value_counts()"
   ]
  },
  {
   "cell_type": "code",
   "execution_count": 12,
   "id": "3d62b482",
   "metadata": {},
   "outputs": [
    {
     "data": {
      "text/plain": [
       "0    73408\n",
       "1    16780\n",
       "Name: retention_7, dtype: int64"
      ]
     },
     "execution_count": 12,
     "metadata": {},
     "output_type": "execute_result"
    }
   ],
   "source": [
    "df['retention_7'].value_counts()"
   ]
  },
  {
   "cell_type": "markdown",
   "id": "18c268da",
   "metadata": {},
   "source": [
    "**Анализ исходных данных показал**:\n",
    "1. Пустых данных в выборке нет.\n",
    "2. Количество пользователей в группах gate_30/gate_40 примерно одинаковое, дублей в userid нет - система сплитования трафика отраболала хорошо.\n",
    "3. Отрицательных (ошибочных) значений в выборке нет.\n",
    "4. Поле version имеет два значения gate_30/gate_40 - ошибочных значений нет.\n",
    "5. Поля retention_1 и retention_7 содержит два значения: 0/1 - ошибочных значений нет.\n",
    "\n",
    "### Метрика: количество раундов, сыгранных каждым игроком в течение первых 14 дней после установки.\n",
    "\n",
    "Проверим данные на нормальность."
   ]
  },
  {
   "cell_type": "code",
   "execution_count": 13,
   "id": "23a66aa6",
   "metadata": {},
   "outputs": [],
   "source": [
    "A = df.query('version == \"gate_30\"')\n",
    "B = df.query('version == \"gate_40\"')\n",
    "n1, n2 = A.shape[0], B.shape[0]"
   ]
  },
  {
   "cell_type": "code",
   "execution_count": 14,
   "id": "5e6a1f61",
   "metadata": {},
   "outputs": [
    {
     "data": {
      "image/png": "[encoded data removed]",
      "text/plain": [
       "<Figure size 640x480 with 2 Axes>"
      ]
     },
     "metadata": {},
     "output_type": "display_data"
    }
   ],
   "source": [
    "fig, ax = plt.subplots(2, 1, gridspec_kw={'height_ratios': [0.5, 2.5]})\n",
    "sns.boxplot(A['sum_gamerounds'], ax=ax[0]);\n",
    "sns.histplot(A['sum_gamerounds'], bins=100, ax=ax[1]);"
   ]
  },
  {
   "cell_type": "code",
   "execution_count": 15,
   "id": "89992f44",
   "metadata": {},
   "outputs": [
    {
     "data": {
      "image/png": "[encoded data removed]",
      "text/plain": [
       "<Figure size 640x480 with 2 Axes>"
      ]
     },
     "metadata": {},
     "output_type": "display_data"
    }
   ],
   "source": [
    "fig, ax = plt.subplots(2, 1, gridspec_kw={'height_ratios': [0.5, 2.5]})\n",
    "sns.boxplot(B['sum_gamerounds'], ax=ax[0]);\n",
    "sns.histplot(B['sum_gamerounds'], bins=100, ax=ax[1]);"
   ]
  },
  {
   "cell_type": "code",
   "execution_count": 16,
   "id": "e7750859",
   "metadata": {},
   "outputs": [
    {
     "data": {
      "image/png": "[encoded data removed]",
      "text/plain": [
       "<Figure size 1200x600 with 2 Axes>"
      ]
     },
     "metadata": {},
     "output_type": "display_data"
    }
   ],
   "source": [
    "plt.figure(figsize = [6*2, 6])\n",
    "\n",
    "plt.subplot(1, 2, 1)\n",
    "norm = stats.probplot(A['sum_gamerounds'], dist=\"norm\", plot=plt)\n",
    "\n",
    "plt.subplot(1, 2, 2)\n",
    "norm = stats.probplot(B['sum_gamerounds'], dist=\"norm\", plot=plt)"
   ]
  },
  {
   "cell_type": "code",
   "execution_count": 17,
   "id": "bfc621a7",
   "metadata": {},
   "outputs": [
    {
     "data": {
      "text/plain": [
       "KstestResult(statistic=0.8724153079945488, pvalue=0.0)"
      ]
     },
     "execution_count": 17,
     "metadata": {},
     "output_type": "execute_result"
    }
   ],
   "source": [
    "stats.kstest(A['sum_gamerounds'], 'norm')"
   ]
  },
  {
   "cell_type": "markdown",
   "id": "ce029539",
   "metadata": {},
   "source": [
    "p-value < 0.05, следовательно предположение о нормальном распределени в группе А (gate_30) **не** верно."
   ]
  },
  {
   "cell_type": "code",
   "execution_count": 18,
   "id": "eb97dae1",
   "metadata": {},
   "outputs": [
    {
     "data": {
      "text/plain": [
       "KstestResult(statistic=0.8707186187388001, pvalue=0.0)"
      ]
     },
     "execution_count": 18,
     "metadata": {},
     "output_type": "execute_result"
    }
   ],
   "source": [
    "stats.kstest(B['sum_gamerounds'], 'norm')"
   ]
  },
  {
   "cell_type": "markdown",
   "id": "23b4ba12",
   "metadata": {},
   "source": [
    "p-value < 0.05, следовательно предположение о нормальном распределени в группе B (gate_40) **не** верно.\n",
    "\n",
    "Данные распределены ненормально, поэтому для оценки равенства средних начений двух выборок используем критерий Манна-Уитни."
   ]
  },
  {
   "cell_type": "code",
   "execution_count": 19,
   "id": "d0b9c816",
   "metadata": {},
   "outputs": [
    {
     "data": {
      "text/plain": [
       "MannwhitneyuResult(statistic=1024285761.5, pvalue=0.05089155279145376)"
      ]
     },
     "execution_count": 19,
     "metadata": {},
     "output_type": "execute_result"
    }
   ],
   "source": [
    "stats.mannwhitneyu(x=A['sum_gamerounds'].values,\n",
    "                   y=B['sum_gamerounds'].values)"
   ]
  },
  {
   "cell_type": "markdown",
   "id": "c1253962",
   "metadata": {},
   "source": [
    "Так как p-value > 0.05 то мы приманием нулевую гипотезу о равенстве средних значений количества раундов в двух выборках. Т.е. между gate_30 и gate_40 статистически значимых различий нет.\n",
    "\n",
    "Проверим, достаточна ли была мощность наших выборок, чтобы анализировать результаты."
   ]
  },
  {
   "cell_type": "code",
   "execution_count": 20,
   "id": "b759e968",
   "metadata": {},
   "outputs": [
    {
     "data": {
      "text/plain": [
       "0.0004220261663113965"
      ]
     },
     "execution_count": 20,
     "metadata": {},
     "output_type": "execute_result"
    }
   ],
   "source": [
    "Ma, Mb = A['sum_gamerounds'].mean(), B['sum_gamerounds'].mean()\n",
    "Da, Db = A['sum_gamerounds'].var(), B['sum_gamerounds'].var()\n",
    "\n",
    "effect_size = (Ma-Mb)/np.sqrt(((n1-1)*Da + (n2-1)*Db)/(n1+n2-2))\n",
    "effect_size"
   ]
  },
  {
   "cell_type": "code",
   "execution_count": 21,
   "id": "e09eb2ee",
   "metadata": {},
   "outputs": [
    {
     "data": {
      "text/plain": [
       "0.05046009024737232"
      ]
     },
     "execution_count": 21,
     "metadata": {},
     "output_type": "execute_result"
    }
   ],
   "source": [
    "analysis = smp.TTestIndPower()\n",
    "analysis.solve_power(effect_size=effect_size, alpha=0.05, power=None, nobs1=n1, ratio=n2/n1)"
   ]
  },
  {
   "cell_type": "markdown",
   "id": "30588cc2",
   "metadata": {},
   "source": [
    "Мощность теста для набора данных (5%) очень низкая. С такой мощностью мы не можем быть уверены в результатах теста. Мы могли не получить статистически значимую разницу, т.к. у нас недостаточный объем выборки. Эксперименты могли быть поставлены или проведены некорректно, или мала длительность. \n",
    "\n",
    "**Рекомендация: рассчитать требуемый размер выборки и избегать преждевременной остановки теста**."
   ]
  },
  {
   "cell_type": "code",
   "execution_count": 22,
   "id": "29f55984",
   "metadata": {},
   "outputs": [
    {
     "data": {
      "text/plain": [
       "156978.1728602031"
      ]
     },
     "execution_count": 22,
     "metadata": {},
     "output_type": "execute_result"
    }
   ],
   "source": [
    "analysis.solve_power(effect_size=0.01, alpha=0.05, power=0.8, nobs1=None, ratio=1)"
   ]
  },
  {
   "cell_type": "markdown",
   "id": "bce66438",
   "metadata": {},
   "source": [
    "Для достоверного обнаружения эффекта в 1% нужно провести $157000$ испытаний в каждой группе, итого $157000 \\cdot 2 = 314000$."
   ]
  },
  {
   "cell_type": "markdown",
   "id": "3721a38a",
   "metadata": {},
   "source": [
    "### Метрика: возвращение игрока в игру через 1 день после установки\n",
    "\n",
    "Проведем Z-тест пропорций на уровне значимости $\\alpha=0.05$\n",
    "\n",
    "$H_0: p_1 = p_2 \\\\\n",
    "H_1: p1 \\not= p_2$\n",
    "\n",
    "$p_1 = \\cfrac{m_1}{n_1}, p_2 = \\cfrac{m_2}{n_2}$"
   ]
  },
  {
   "cell_type": "code",
   "execution_count": 24,
   "id": "0fbcf24d",
   "metadata": {},
   "outputs": [
    {
     "data": {
      "text/plain": [
       "(1.787103509763628, 0.0739207603418346)"
      ]
     },
     "execution_count": 24,
     "metadata": {},
     "output_type": "execute_result"
    }
   ],
   "source": [
    "m1 = A['retention_1'].sum()\n",
    "m2 = B['retention_1'].sum()\n",
    "\n",
    "proportion.proportions_ztest(np.array([m1, m2]), np.array([n1, n2]), alternative='two-sided')"
   ]
  },
  {
   "cell_type": "markdown",
   "id": "9d75650a",
   "metadata": {},
   "source": [
    "Так как p-value > 0.05 то мы **приманием** нулевую гипотезу о равенстве доли вернувшихся в игру через 1 день в двух выборках. \\\n",
    "В группах gate_30 и gate_40 **не** обнаружены статистически значимые отличия по retention_1."
   ]
  },
  {
   "cell_type": "markdown",
   "id": "620fbdbb",
   "metadata": {},
   "source": [
    "### Метрика: возвращение игрока в игру через 7 день после установки\n",
    "\n",
    "Проведем Z-тест пропорций на уровне значимости $\\alpha=0.05$\n",
    "\n",
    "$H_0: p_1 = p_2 \\\\\n",
    "H_1: p1 \\not= p_2$\n",
    "\n",
    "$p_1 = \\cfrac{m_1}{n_1}, p_2 = \\cfrac{m_2}{n_2}$"
   ]
  },
  {
   "cell_type": "code",
   "execution_count": 25,
   "id": "296f2f3e",
   "metadata": {},
   "outputs": [
    {
     "data": {
      "text/plain": [
       "(3.1574100858819936, 0.0015917731773993442)"
      ]
     },
     "execution_count": 25,
     "metadata": {},
     "output_type": "execute_result"
    }
   ],
   "source": [
    "m1 = A.query('retention_7 == 1')['retention_7'].sum()\n",
    "m2 = B.query('retention_7 == 1')['retention_7'].sum()\n",
    "\n",
    "proportion.proportions_ztest(np.array([m1, m2]), np.array([n1, n2]))"
   ]
  },
  {
   "cell_type": "markdown",
   "id": "213ea2bd",
   "metadata": {},
   "source": [
    "Так как p-value < 0.05 то мы **отвергаем** нулевую гипотезу о равенстве доли вернувшихся в игру через 7 день в двух выборках. \\\n",
    "В группах gate_30 и gate_40 обнаружены статистически значимые отличия по retention_7."
   ]
  },
  {
   "cell_type": "markdown",
   "id": "16662990",
   "metadata": {},
   "source": [
    "**В итоге рекомендуется:**\n",
    "1. Не вводить изменения, на которых происходило тестирование группы B.\n",
    "2. Увеличить размер выборки до 314000. Это позволит, кроме увеличения мощности по кололичеству игр, поднять мощность тестов по метрикам возвращения игроков в игру.\n",
    "3. Уточнить дизайн А/В теста и запустить его заново."
   ]
  },
  {
   "cell_type": "code",
   "execution_count": null,
   "id": "26b27129",
   "metadata": {},
   "outputs": [],
   "source": []
  }
 ],
 "metadata": {
  "kernelspec": {
   "display_name": "Python 3 (ipykernel)",
   "language": "python",
   "name": "python3"
  },
  "language_info": {
   "codemirror_mode": {
    "name": "ipython",
    "version": 3
   },
   "file_extension": ".py",
   "mimetype": "text/x-python",
   "name": "python",
   "nbconvert_exporter": "python",
   "pygments_lexer": "ipython3",
   "version": "3.9.13"
  }
 },
 "nbformat": 4,
 "nbformat_minor": 5
}
