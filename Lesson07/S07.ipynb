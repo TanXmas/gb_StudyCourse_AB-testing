{
 "cells": [
  {
   "cell_type": "markdown",
   "id": "c6122eaa",
   "metadata": {},
   "source": [
    "# Урок 7. Нестандартные ситуации"
   ]
  },
  {
   "cell_type": "code",
   "execution_count": 1,
   "id": "4912d073",
   "metadata": {},
   "outputs": [],
   "source": [
    "import numpy as np\n",
    "#import pandas as pd\n",
    "\n",
    "from scipy import stats\n",
    "\n",
    "import warnings\n",
    "warnings.filterwarnings('ignore')"
   ]
  },
  {
   "cell_type": "markdown",
   "id": "da1d52db",
   "metadata": {},
   "source": [
    "## Задание 1\n",
    "Мы провели A/A текст, в котором сравнили одну и ту же версию сайта. Полученные результаты выглядят следующим образом. Можем ли мы на основе проведенного A/A теста, запустить процесс A/B-тестирования? Используйте уровень доверия 95%.\n",
    "\n",
    "Для оценки статистической значимости различий между конверсиями в двух группах будем использовать Z-критерий для разности долей:\\\n",
    "$Z = \\cfrac{p_1 - p_2}{\\sqrt{p (1-p) \\left(\\cfrac{1}{n_1} + \\cfrac{1}{n_2}\\right)}}$, где\n",
    "$p = \\cfrac{m_1 + m_2}{n_1 + n_2}$\n",
    "\n",
    "На уровне значимости $\\alpha = 0.05$ проверим гипотезу $H_0: p_1 = p_2$ о том, что выборки равноценны против конкурирующей гипотезы $H_1: p_1 < p_2$."
   ]
  },
  {
   "cell_type": "code",
   "execution_count": 2,
   "id": "8b992438",
   "metadata": {},
   "outputs": [],
   "source": [
    "n1, n2, m1, m2, alpha = 1731, 1702, 152, 189, 0.05"
   ]
  },
  {
   "cell_type": "code",
   "execution_count": 3,
   "id": "41790245",
   "metadata": {},
   "outputs": [
    {
     "name": "stdout",
     "output_type": "stream",
     "text": [
      "Zk = 1.64\n",
      "Zn = -2.28\n",
      "H0: p1 = p2 is False\n"
     ]
    }
   ],
   "source": [
    "p1, p2, p = m1/n1, m2/n2, (m1+m2)/(n1+n2)\n",
    "\n",
    "Zk = stats.norm.ppf(1-alpha)\n",
    "print(f'{Zk = :.2f}')\n",
    "\n",
    "Zn = (p1-p2)/np.sqrt(p*(1-p)*(1/n1+1/n2))\n",
    "print(f'{Zn = :.2f}')\n",
    "\n",
    "print(f'H0: p1 = p2 is {Zn>-Zk}')"
   ]
  },
  {
   "cell_type": "markdown",
   "id": "48fb6083",
   "metadata": {},
   "source": [
    "На уровне значимости $\\alpha=0.05$ гипотезу $H_0: p_1 = p_2$ отвергаем в пользу конкурирующей гипотезы $H_1: p_1 < p_2$.\\"
   ]
  },
  {
   "cell_type": "markdown",
   "id": "48c79da7",
   "metadata": {},
   "source": [
    "## Задание 2\n",
    "Мы провели A/A текст, в котором сравнили одну и ту же версию сайта. Полученные результаты выглядят следующим образом. Можем ли мы на основе проведенного A/A теста, запустить процесс A/B-тестирования? Используйте уровень доверия 95%.\n",
    "\n",
    "$H_0: \\bar{X} - \\bar{Y} = 0$ \\\n",
    "$H_1: \\bar{X} - \\bar{Y} > 0$ – правосторонняя критическая область\n",
    "\n",
    "Для проверки нулевой гипотезы используют статистический критерий \\\n",
    "$Z = \\cfrac{\\bar{x}-\\bar{y}}{\\sqrt{\\cfrac{D_x^2}{n}+\\cfrac{D_y^2}{m}}}$, где \\\n",
    "$\\bar{x}$, $\\bar{y}$ - выборочные средние \\\n",
    "$D_x^2$, $D_y^2$ - смещенные выборочные дисперсии (можно использовать и несмещенную)\n",
    "\n",
    "Правосторонняя критическая область. Если $z_н < z_к$, то гипотеза $H_0$ принимается, в случае $z_н > z_к$ – отвергается."
   ]
  },
  {
   "cell_type": "code",
   "execution_count": 4,
   "id": "0d2bc712",
   "metadata": {},
   "outputs": [],
   "source": [
    "Mx, SDx, Nx = 38.175, 28, 108 #A\n",
    "My, SDy, Ny = 33.710, 11, 105 #A1\n",
    "alpha = 0.05"
   ]
  },
  {
   "cell_type": "code",
   "execution_count": 5,
   "id": "33019015",
   "metadata": {},
   "outputs": [
    {
     "name": "stdout",
     "output_type": "stream",
     "text": [
      "Zk = 1.64\n",
      "Zn = 1.54\n",
      "H0: M(X)=M(Y) is True\n"
     ]
    }
   ],
   "source": [
    "Zk = stats.norm.ppf(1-alpha)\n",
    "print(f'Zk = {Zk:.2f}')\n",
    "\n",
    "Zn = (Mx-My)/np.sqrt(SDx**2/Nx + SDy**2/Ny)\n",
    "print(f'Zn = {Zn:.2f}')\n",
    "\n",
    "print(f'H0: M(X)=M(Y) is {Zn<Zk}')"
   ]
  },
  {
   "attachments": {},
   "cell_type": "markdown",
   "id": "28903fe4",
   "metadata": {},
   "source": [
    "## Задание 3\n",
    "Мы запустили A/B-тест. На его проведение мы собираемся потратить 1 неделю, на каждую выборку направить по 10000 юзеров. На третий день, продакт посмотрел на промежуточные результаты. На этот момент в каждой выборке было по 3000 юзеров, а результат в конверсиях был статистически значимым в пользу версии B. Можем ли мы на основе таких данных выпустить версию B на всех юзеров?\n",
    "\n",
    "Нет."
   ]
  },
  {
   "cell_type": "markdown",
   "id": "7838a701",
   "metadata": {},
   "source": [
    "## Задание 4\n",
    "Мы провели A/B-тест, в котором изменили элементы после добавления товара в корзину. То есть, юзеры видят разные версии сайта после того, как что-то добавят в корзину. Получили следующие результаты. Какую версию вы в итоге выберите?\n",
    "\n",
    "|  | A | B |\n",
    "|---|---|---|\n",
    "| Посещение | 6351 | 6442 |\n",
    "| Добавление в корзину | 1754 | 1902 |\n",
    "| Подтверждение заказа | 1025 | 1099 |\n",
    "| Транзакция | 623 | 642 |"
   ]
  },
  {
   "cell_type": "code",
   "execution_count": 9,
   "id": "665910db",
   "metadata": {},
   "outputs": [],
   "source": []
  },
  {
   "cell_type": "code",
   "execution_count": null,
   "id": "f2be330d",
   "metadata": {},
   "outputs": [],
   "source": []
  }
 ],
 "metadata": {
  "kernelspec": {
   "display_name": "Python 3 (ipykernel)",
   "language": "python",
   "name": "python3"
  },
  "language_info": {
   "codemirror_mode": {
    "name": "ipython",
    "version": 3
   },
   "file_extension": ".py",
   "mimetype": "text/x-python",
   "name": "python",
   "nbconvert_exporter": "python",
   "pygments_lexer": "ipython3",
   "version": "3.9.13"
  }
 },
 "nbformat": 4,
 "nbformat_minor": 5
}
